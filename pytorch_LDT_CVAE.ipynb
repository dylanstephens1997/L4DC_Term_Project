{
  "nbformat": 4,
  "nbformat_minor": 0,
  "metadata": {
    "kernelspec": {
      "display_name": "Python 3",
      "language": "python",
      "name": "python3"
    },
    "language_info": {
      "codemirror_mode": {
        "name": "ipython",
        "version": 3
      },
      "file_extension": ".py",
      "mimetype": "text/x-python",
      "name": "python",
      "nbconvert_exporter": "python",
      "pygments_lexer": "ipython3",
      "version": "3.5.4"
    },
    "colab": {
      "name": "pytorch-LDT-CVAE.ipynb",
      "provenance": [],
      "collapsed_sections": [],
      "include_colab_link": true
    },
    "accelerator": "GPU"
  },
  "cells": [
    {
      "cell_type": "markdown",
      "metadata": {
        "id": "view-in-github",
        "colab_type": "text"
      },
      "source": [
        "<a href=\"https://colab.research.google.com/github/dylanstephens1997/L4DC_Term_Project/blob/main/pytorch_LDT_CVAE.ipynb\" target=\"_parent\"><img src=\"https://colab.research.google.com/assets/colab-badge.svg\" alt=\"Open In Colab\"/></a>"
      ]
    },
    {
      "cell_type": "code",
      "metadata": {
        "colab": {
          "base_uri": "https://localhost:8080/"
        },
        "id": "m8zJG4I3AxEI",
        "outputId": "f4cdd153-4fe9-4695-edb9-598a2d581bb7"
      },
      "source": [
        "from google.colab import drive\n",
        "drive.mount('/content/drive')"
      ],
      "execution_count": null,
      "outputs": [
        {
          "output_type": "stream",
          "name": "stdout",
          "text": [
            "Mounted at /content/drive\n"
          ]
        }
      ]
    },
    {
      "cell_type": "code",
      "metadata": {
        "id": "uFOJ6tvHA_Ss"
      },
      "source": [
        "import torch\n",
        "input = torch.load('/content/drive/MyDrive/Colab Notebooks/input_demos_gcg.pt')\n",
        "actions = torch.load('/content/drive/MyDrive/Colab Notebooks/action_demos_gcg.pt')\n",
        "if (torch.is_tensor(input)):\n",
        "    input_t = input\n",
        "    action_t = actions\n",
        "else:\n",
        "    input_t  = torch.from_numpy(input)\n",
        "    action_t = torch.from_numpy(actions)"
      ],
      "execution_count": null,
      "outputs": []
    },
    {
      "cell_type": "code",
      "metadata": {
        "id": "qpAEqYNOGH2v"
      },
      "source": [
        "# prerequisites\n",
        "import torch.nn as nn\n",
        "import torch.nn.functional as F\n",
        "import torch.optim as optim\n",
        "from torchvision import datasets, transforms\n",
        "from torch.autograd import Variable\n",
        "from torchvision.utils import save_image\n",
        "import numpy as np\n",
        "\n",
        "bs = 100"
      ],
      "execution_count": null,
      "outputs": []
    },
    {
      "cell_type": "code",
      "metadata": {
        "id": "ILOQNltVM1k6"
      },
      "source": [
        "from torch.utils.data import Dataset, DataLoader, TensorDataset\n",
        "class TeleopData(Dataset):\n",
        "    def __init__(self, actions, states):\n",
        "        self.action = actions\n",
        "        self.state = states\n",
        "\n",
        "    def __len__(self):\n",
        "        return len(self.state)\n",
        "\n",
        "    def __getitem__(self, idx):\n",
        "        actions = self.action[idx]\n",
        "        states  = self.state[idx]\n",
        "        sample = (actions,states)\n",
        "        return sample"
      ],
      "execution_count": null,
      "outputs": []
    },
    {
      "cell_type": "code",
      "metadata": {
        "colab": {
          "base_uri": "https://localhost:8080/"
        },
        "id": "m_s0QJV-OV7m",
        "outputId": "46d9f794-33dd-4360-ff02-78dcf4ba2a1d"
      },
      "source": [
        "import pandas as pd\n",
        "#state_action_df = pd.DataFrame({'State': input, 'Actions': actions})\n",
        "TD = TeleopData(action_t, input_t)\n",
        "print('\\nFirst iteration of data set: ', next(iter(TD)), '\\n')\n",
        "train_dataset = TensorDataset(action_t, input_t)\n",
        "test_dataset = TensorDataset(action_t[0:200], input_t[0:200])\n"
      ],
      "execution_count": null,
      "outputs": [
        {
          "output_type": "stream",
          "name": "stdout",
          "text": [
            "\n",
            "First iteration of data set:  (tensor([ 0.,  0.,  0.,  0.,  0., -0., -1.], dtype=torch.float64), tensor([295.8856, 415.1305,   0.9998,   0.9774,   0.9996,  -0.8776,   0.9999,\n",
            "         -0.9755,   0.7004,   1.0000,   0.0000], dtype=torch.float64)) \n",
            "\n"
          ]
        }
      ]
    },
    {
      "cell_type": "code",
      "metadata": {
        "id": "zR2-6EeYTs0t"
      },
      "source": [
        "train_loader = torch.utils.data.DataLoader(dataset=train_dataset, batch_size=30, shuffle=False)\n",
        "test_loader = torch.utils.data.DataLoader(dataset=test_dataset, batch_size=10, shuffle=False)"
      ],
      "execution_count": null,
      "outputs": []
    },
    {
      "cell_type": "code",
      "metadata": {
        "colab": {
          "base_uri": "https://localhost:8080/"
        },
        "id": "QorjXpWufRkM",
        "outputId": "15873a29-6be7-450b-bc0c-cf7868b4ef4e"
      },
      "source": [
        "print(action_t[0:200])"
      ],
      "execution_count": null,
      "outputs": [
        {
          "output_type": "stream",
          "name": "stdout",
          "text": [
            "tensor([[ 0.,  0.,  0.,  ...,  0., -0., -1.],\n",
            "        [ 0.,  0.,  0.,  ...,  0., -0., -1.],\n",
            "        [ 0.,  0.,  0.,  ...,  0., -0., -1.],\n",
            "        ...,\n",
            "        [ 0.,  0.,  0.,  ...,  0., -0., -1.],\n",
            "        [ 0.,  0.,  0.,  ...,  0., -0., -1.],\n",
            "        [ 0.,  0.,  0.,  ...,  0., -0., -1.]], dtype=torch.float64)\n"
          ]
        }
      ]
    },
    {
      "cell_type": "code",
      "metadata": {
        "colab": {
          "base_uri": "https://localhost:8080/"
        },
        "id": "bRKgCq9CErj7",
        "outputId": "52c5d0d3-77cd-4dc7-fdee-1714e7e45b8b"
      },
      "source": [
        "for batch_idx, (data, cond) in enumerate(train_loader):\n",
        "        print(\"data: \", data.shape )\n",
        "        print(\"cond: \", cond.shape )\n",
        "        data, cond = data.cuda(), cond.cuda()\n",
        "        break\n"
      ],
      "execution_count": null,
      "outputs": [
        {
          "output_type": "stream",
          "name": "stdout",
          "text": [
            "data:  torch.Size([50, 7])\n",
            "cond:  torch.Size([50, 11])\n"
          ]
        }
      ]
    },
    {
      "cell_type": "code",
      "metadata": {
        "colab": {
          "base_uri": "https://localhost:8080/"
        },
        "id": "wsYUN7e1HkMr",
        "outputId": "b917773d-1cee-477e-c9bc-767c828fca39"
      },
      "source": [
        "print(TD)"
      ],
      "execution_count": null,
      "outputs": [
        {
          "output_type": "stream",
          "name": "stdout",
          "text": [
            "<__main__.TeleopData object at 0x7f1ca400bb10>\n"
          ]
        }
      ]
    },
    {
      "cell_type": "code",
      "metadata": {
        "id": "yF7L98EzGH20"
      },
      "source": [
        "class CVAE(nn.Module):\n",
        "    def __init__(self, x_dim, h_dim1, h_dim2, z_dim, c_dim):\n",
        "        super(CVAE, self).__init__()\n",
        "        \n",
        "        # encoder part\n",
        "        self.fc1 = nn.Linear(x_dim + c_dim, h_dim1)\n",
        "        self.fc2 = nn.Linear(h_dim1, h_dim2)\n",
        "        self.fc31 = nn.Linear(h_dim2, z_dim)\n",
        "        self.fc32 = nn.Linear(h_dim2, z_dim)\n",
        "        # decoder part\n",
        "        self.fc4 = nn.Linear(z_dim + c_dim, h_dim2)\n",
        "        self.fc5 = nn.Linear(h_dim2, h_dim1)\n",
        "        self.fc6 = nn.Linear(h_dim1, x_dim)\n",
        "    \n",
        "    def encoder(self, x, c):\n",
        "        concat_input = torch.cat([x, c], 1)\n",
        "        h = F.relu(self.fc1(concat_input))\n",
        "        h = F.relu(self.fc2(h))\n",
        "        return self.fc31(h), self.fc32(h)\n",
        "    \n",
        "    def sampling(self, mu, log_var):\n",
        "        std = torch.exp(0.5*log_var)\n",
        "        eps = torch.randn_like(std)\n",
        "        return eps.mul(std).add(mu) # return z sample\n",
        "    \n",
        "    def decoder(self, z, c):\n",
        "        concat_input = torch.cat([z, c], 1)\n",
        "        h = F.relu(self.fc4(concat_input))\n",
        "        h = F.relu(self.fc5(h))\n",
        "        return F.sigmoid(self.fc6(h))\n",
        "    \n",
        "    def forward(self, x, c):\n",
        "        mu, log_var = self.encoder(x.view(-1, 7), c)\n",
        "        z = self.sampling(mu, log_var)\n",
        "        return self.decoder(z, c), mu, log_var\n",
        "\n",
        "# build model\n",
        "#cond_dim = train_loader.dataset.train_labels.unique().size(0)\n",
        "cvae = CVAE(x_dim=len(action_t[0]), h_dim1=30, h_dim2=10, z_dim=1, c_dim=len(input_t[0]))\n",
        "if torch.cuda.is_available():\n",
        "    cvae.cuda()"
      ],
      "execution_count": null,
      "outputs": []
    },
    {
      "cell_type": "code",
      "metadata": {
        "id": "4TSbwRhlGH22"
      },
      "source": [
        "cvae\n",
        "cvae = cvae.double()"
      ],
      "execution_count": null,
      "outputs": []
    },
    {
      "cell_type": "code",
      "metadata": {
        "id": "tMjaeQvlGH24",
        "colab": {
          "base_uri": "https://localhost:8080/",
          "height": 52
        },
        "outputId": "e66e9ed8-eb94-4e0b-f2dc-70aeb008581b"
      },
      "source": [
        "optimizer = optim.Adam(cvae.parameters())\n",
        "# return reconstruction error + KL divergence losses\n",
        "def loss_function(recon_x, x, mu, log_var):\n",
        "    BCE = F.binary_cross_entropy(recon_x, x.view(-1, 7), reduction='sum')\n",
        "    KLD = -0.5 * torch.sum(1 + log_var - mu.pow(2) - log_var.exp())\n",
        "    return BCE + KLD\n",
        "\n",
        "# one-hot encoding (not necessary for us commenting out)\n",
        "'''\n",
        "def one_hot(labels, class_size): \n",
        "    targets = torch.zeros(labels.size(0), class_size)\n",
        "    for i, label in enumerate(labels):\n",
        "        targets[i, label] = 1\n",
        "    return Variable(targets)'''"
      ],
      "execution_count": null,
      "outputs": [
        {
          "output_type": "execute_result",
          "data": {
            "application/vnd.google.colaboratory.intrinsic+json": {
              "type": "string"
            },
            "text/plain": [
              "'\\ndef one_hot(labels, class_size): \\n    targets = torch.zeros(labels.size(0), class_size)\\n    for i, label in enumerate(labels):\\n        targets[i, label] = 1\\n    return Variable(targets)'"
            ]
          },
          "metadata": {},
          "execution_count": 65
        }
      ]
    },
    {
      "cell_type": "code",
      "metadata": {
        "id": "6bvWWOlSGH25"
      },
      "source": [
        "def train(epoch):\n",
        "    cvae.train()\n",
        "    train_loss = 0\n",
        "    for batch_idx, (data, cond) in enumerate(train_loader):\n",
        "        data, cond = data.cuda(), cond.cuda()\n",
        "        optimizer.zero_grad()\n",
        "        \n",
        "        recon_batch, mu, log_var = cvae(data.double(), cond.double())\n",
        "        loss = loss_function(recon_batch, data, mu, log_var)\n",
        "        \n",
        "        loss.backward()\n",
        "        train_loss += loss.item()\n",
        "        optimizer.step()\n",
        "        \n",
        "        if batch_idx % 100 == 0:\n",
        "            print('Train Epoch: {} [{}/{} ({:.0f}%)]\\tLoss: {:.6f}'.format(\n",
        "                epoch, batch_idx * len(data), len(train_loader.dataset),\n",
        "                100. * batch_idx / len(train_loader), loss.item() / len(data)))\n",
        "    print('====> Epoch: {} Average loss: {:.4f}'.format(epoch, train_loss / len(train_loader.dataset)))                "
      ],
      "execution_count": null,
      "outputs": []
    },
    {
      "cell_type": "code",
      "metadata": {
        "id": "_ZFqAjx4GH25"
      },
      "source": [
        "def test():\n",
        "    cvae.eval()\n",
        "    test_loss= 0\n",
        "    with torch.no_grad():\n",
        "        for data, cond in test_loader:\n",
        "            data, cond = data.cuda(), cond.cuda()\n",
        "            recon, mu, log_var = cvae(data, cond)\n",
        "            # sum up batch loss\n",
        "            test_loss += loss_function(recon, data, mu, log_var).item()\n",
        "        \n",
        "    test_loss /= len(test_loader.dataset)\n",
        "    print('====> Test set loss: {:.4f}'.format(test_loss))"
      ],
      "execution_count": null,
      "outputs": []
    },
    {
      "cell_type": "code",
      "metadata": {
        "id": "WH9mjIMbNB9f"
      },
      "source": [
        ""
      ],
      "execution_count": null,
      "outputs": []
    },
    {
      "cell_type": "code",
      "metadata": {
        "scrolled": true,
        "id": "-GP54yjJGH25",
        "colab": {
          "base_uri": "https://localhost:8080/"
        },
        "outputId": "42d0877a-6e39-4ce9-8385-7e94f7bd65ec"
      },
      "source": [
        "# train\n",
        "for epoch in range(1, 10):\n",
        "    train(epoch)\n",
        "    test()"
      ],
      "execution_count": null,
      "outputs": [
        {
          "output_type": "stream",
          "name": "stderr",
          "text": [
            "/usr/local/lib/python3.7/dist-packages/torch/nn/functional.py:1806: UserWarning: nn.functional.sigmoid is deprecated. Use torch.sigmoid instead.\n",
            "  warnings.warn(\"nn.functional.sigmoid is deprecated. Use torch.sigmoid instead.\")\n"
          ]
        },
        {
          "output_type": "stream",
          "name": "stdout",
          "text": [
            "Train Epoch: 1 [0/9286 (0%)]\tLoss: -1.321086\n",
            "Train Epoch: 1 [3000/9286 (32%)]\tLoss: 1.648182\n",
            "Train Epoch: 1 [6000/9286 (65%)]\tLoss: 5.267763\n",
            "Train Epoch: 1 [9000/9286 (97%)]\tLoss: 2.163764\n",
            "====> Epoch: 1 Average loss: 9.5727\n",
            "====> Test set loss: -1.1304\n",
            "Train Epoch: 2 [0/9286 (0%)]\tLoss: -1.321087\n",
            "Train Epoch: 2 [3000/9286 (32%)]\tLoss: 1.648182\n",
            "Train Epoch: 2 [6000/9286 (65%)]\tLoss: 5.267763\n",
            "Train Epoch: 2 [9000/9286 (97%)]\tLoss: 2.163764\n",
            "====> Epoch: 2 Average loss: 9.5727\n",
            "====> Test set loss: -1.1304\n",
            "Train Epoch: 3 [0/9286 (0%)]\tLoss: -1.321087\n",
            "Train Epoch: 3 [3000/9286 (32%)]\tLoss: 1.648182\n",
            "Train Epoch: 3 [6000/9286 (65%)]\tLoss: 5.267763\n",
            "Train Epoch: 3 [9000/9286 (97%)]\tLoss: 2.163764\n",
            "====> Epoch: 3 Average loss: 9.5727\n",
            "====> Test set loss: -1.1304\n",
            "Train Epoch: 4 [0/9286 (0%)]\tLoss: -1.321086\n",
            "Train Epoch: 4 [3000/9286 (32%)]\tLoss: 1.648182\n",
            "Train Epoch: 4 [6000/9286 (65%)]\tLoss: 5.267763\n",
            "Train Epoch: 4 [9000/9286 (97%)]\tLoss: 2.163764\n",
            "====> Epoch: 4 Average loss: 9.5727\n",
            "====> Test set loss: -1.1304\n",
            "Train Epoch: 5 [0/9286 (0%)]\tLoss: -1.321086\n",
            "Train Epoch: 5 [3000/9286 (32%)]\tLoss: 1.648182\n",
            "Train Epoch: 5 [6000/9286 (65%)]\tLoss: 5.267763\n",
            "Train Epoch: 5 [9000/9286 (97%)]\tLoss: 2.163764\n",
            "====> Epoch: 5 Average loss: 9.5727\n",
            "====> Test set loss: -1.1304\n",
            "Train Epoch: 6 [0/9286 (0%)]\tLoss: -1.321087\n",
            "Train Epoch: 6 [3000/9286 (32%)]\tLoss: 1.648182\n",
            "Train Epoch: 6 [6000/9286 (65%)]\tLoss: 5.267763\n",
            "Train Epoch: 6 [9000/9286 (97%)]\tLoss: 2.163764\n",
            "====> Epoch: 6 Average loss: 9.5727\n",
            "====> Test set loss: -1.1304\n",
            "Train Epoch: 7 [0/9286 (0%)]\tLoss: -1.321086\n",
            "Train Epoch: 7 [3000/9286 (32%)]\tLoss: 1.648183\n",
            "Train Epoch: 7 [6000/9286 (65%)]\tLoss: 5.267763\n",
            "Train Epoch: 7 [9000/9286 (97%)]\tLoss: 2.163764\n",
            "====> Epoch: 7 Average loss: 9.5727\n",
            "====> Test set loss: -1.1304\n",
            "Train Epoch: 8 [0/9286 (0%)]\tLoss: -1.321086\n",
            "Train Epoch: 8 [3000/9286 (32%)]\tLoss: 1.648182\n",
            "Train Epoch: 8 [6000/9286 (65%)]\tLoss: 5.267763\n",
            "Train Epoch: 8 [9000/9286 (97%)]\tLoss: 2.163764\n",
            "====> Epoch: 8 Average loss: 9.5727\n",
            "====> Test set loss: -1.1304\n",
            "Train Epoch: 9 [0/9286 (0%)]\tLoss: -1.321088\n",
            "Train Epoch: 9 [3000/9286 (32%)]\tLoss: 1.648182\n",
            "Train Epoch: 9 [6000/9286 (65%)]\tLoss: 5.267763\n",
            "Train Epoch: 9 [9000/9286 (97%)]\tLoss: 2.163764\n",
            "====> Epoch: 9 Average loss: 9.5727\n",
            "====> Test set loss: -1.1304\n"
          ]
        }
      ]
    },
    {
      "cell_type": "code",
      "metadata": {
        "id": "5OW8O5CEoI9R"
      },
      "source": [
        "torch.save(cvae.fc1.weight,'/content/drive/MyDrive/Colab Notebooks/fc1_weights.pt')\n",
        "torch.save(cvae.fc2.weight,'/content/drive/MyDrive/Colab Notebooks/fc2_weights.pt')\n",
        "torch.save(cvae.fc31.weight,'/content/drive/MyDrive/Colab Notebooks/fc31_weights.pt')\n",
        "torch.save(cvae.fc32.weight,'/content/drive/MyDrive/Colab Notebooks/fc32_weights.pt')\n",
        "torch.save(cvae.fc4.weight,'/content/drive/MyDrive/Colab Notebooks/fc4_weights.pt')\n",
        "torch.save(cvae.fc5.weight,'/content/drive/MyDrive/Colab Notebooks/fc5_weights.pt')\n",
        "torch.save(cvae.fc6.weight,'/content/drive/MyDrive/Colab Notebooks/fc6_weights.pt')\n",
        "\n"
      ],
      "execution_count": null,
      "outputs": []
    },
    {
      "cell_type": "code",
      "metadata": {
        "colab": {
          "base_uri": "https://localhost:8080/"
        },
        "id": "ZnCWyhASfloF",
        "outputId": "b74898f9-57fd-43fb-8dd5-7a5bdebf7669"
      },
      "source": [
        "test()"
      ],
      "execution_count": null,
      "outputs": [
        {
          "output_type": "stream",
          "name": "stdout",
          "text": [
            "====> Test set loss: -1.1304\n"
          ]
        },
        {
          "output_type": "stream",
          "name": "stderr",
          "text": [
            "/usr/local/lib/python3.7/dist-packages/torch/nn/functional.py:1806: UserWarning: nn.functional.sigmoid is deprecated. Use torch.sigmoid instead.\n",
            "  warnings.warn(\"nn.functional.sigmoid is deprecated. Use torch.sigmoid instead.\")\n"
          ]
        }
      ]
    },
    {
      "cell_type": "code",
      "metadata": {
        "id": "nZaPoB0FGH26",
        "colab": {
          "base_uri": "https://localhost:8080/"
        },
        "outputId": "05e46c5a-05fc-4a10-8f8a-dc57bb00b856"
      },
      "source": [
        "with torch.no_grad():\n",
        "    z = torch.ones(2100, 1).cuda()\n",
        "    c = input_t[0:2100].cuda()\n",
        "\n",
        "    sample = cvae.decoder(z, c)\n",
        "print(torch.sum(sample,0))\n",
        "print(sample)"
      ],
      "execution_count": null,
      "outputs": [
        {
          "output_type": "stream",
          "name": "stdout",
          "text": [
            "tensor([5.2961e+01, 1.9656e+03, 3.6072e-02, 4.1915e+02, 2.0947e+03, 4.3015e-02,\n",
            "        2.4235e-07], device='cuda:0', dtype=torch.float64)\n",
            "tensor([[2.9167e-02, 9.3462e-01, 1.5220e-05,  ..., 9.9831e-01, 1.5984e-05,\n",
            "         6.4407e-11],\n",
            "        [2.9165e-02, 9.3462e-01, 1.5221e-05,  ..., 9.9831e-01, 1.5984e-05,\n",
            "         6.4412e-11],\n",
            "        [2.9163e-02, 9.3461e-01, 1.5223e-05,  ..., 9.9831e-01, 1.5985e-05,\n",
            "         6.4424e-11],\n",
            "        ...,\n",
            "        [1.4546e-02, 9.4350e-01, 1.9242e-05,  ..., 9.9439e-01, 3.1133e-05,\n",
            "         2.1579e-10],\n",
            "        [1.4546e-02, 9.4351e-01, 1.9240e-05,  ..., 9.9439e-01, 3.1132e-05,\n",
            "         2.1576e-10],\n",
            "        [1.4547e-02, 9.4351e-01, 1.9238e-05,  ..., 9.9440e-01, 3.1131e-05,\n",
            "         2.1574e-10]], device='cuda:0', dtype=torch.float64)\n"
          ]
        },
        {
          "output_type": "stream",
          "name": "stderr",
          "text": [
            "/usr/local/lib/python3.7/dist-packages/torch/nn/functional.py:1806: UserWarning: nn.functional.sigmoid is deprecated. Use torch.sigmoid instead.\n",
            "  warnings.warn(\"nn.functional.sigmoid is deprecated. Use torch.sigmoid instead.\")\n"
          ]
        }
      ]
    }
  ]
}